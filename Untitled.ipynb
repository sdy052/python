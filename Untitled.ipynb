{
 "cells": [
  {
   "cell_type": "markdown",
   "id": "233a2058",
   "metadata": {},
   "source": [
    "python yaz"
   ]
  },
  {
   "cell_type": "code",
   "execution_count": 10,
   "id": "ab48a7e4",
   "metadata": {},
   "outputs": [],
   "source": [
    "age=21"
   ]
  },
  {
   "cell_type": "code",
   "execution_count": 11,
   "id": "8c267d5b",
   "metadata": {},
   "outputs": [
    {
     "name": "stdout",
     "output_type": "stream",
     "text": [
      "iceri gir\n"
     ]
    }
   ],
   "source": [
    "if age ==21:\n",
    "    print('iceri gir')"
   ]
  },
  {
   "cell_type": "code",
   "execution_count": 12,
   "id": "640b675f",
   "metadata": {},
   "outputs": [
    {
     "data": {
      "text/plain": [
       "21"
      ]
     },
     "execution_count": 12,
     "metadata": {},
     "output_type": "execute_result"
    }
   ],
   "source": [
    "age"
   ]
  },
  {
   "cell_type": "code",
   "execution_count": null,
   "id": "12405b7f",
   "metadata": {},
   "outputs": [],
   "source": []
  }
 ],
 "metadata": {
  "kernelspec": {
   "display_name": "Python 3 (ipykernel)",
   "language": "python",
   "name": "python3"
  },
  "language_info": {
   "codemirror_mode": {
    "name": "ipython",
    "version": 3
   },
   "file_extension": ".py",
   "mimetype": "text/x-python",
   "name": "python",
   "nbconvert_exporter": "python",
   "pygments_lexer": "ipython3",
   "version": "3.11.2"
  }
 },
 "nbformat": 4,
 "nbformat_minor": 5
}
